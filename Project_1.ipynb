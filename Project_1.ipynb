{
 "cells": [
  {
   "cell_type": "markdown",
   "metadata": {},
   "source": [
    "# Projeto 1: Regressão Linear\n",
    "\n",
    "O projeto consiste em explorar modelos de regressão linear para prever o volume de tráfego do [Metro Interstate](https://archive.ics.uci.edu/ml/datasets/Metro+Interstate+Traffic+Volume) a partir de 8 _features_ :\n",
    "\n",
    "- Feriado (ou dia útil)\n",
    "- Temperatura (em Kelvin)\n",
    "- Chuva (em 1h)\n",
    "- Neve (em 1h)\n",
    "- Nuvens (porcentagem)\n",
    "- Clima (curto)\n",
    "- Clima (longo)\n",
    "- Data/Hora\n",
    "\n",
    "O valor alvo é o volume de tráfego, que também está disponível no _dataset_."
   ]
  },
  {
   "cell_type": "code",
   "execution_count": 1,
   "metadata": {},
   "outputs": [],
   "source": [
    "import re\n",
    "import time\n",
    "import numpy as np\n",
    "import matplotlib.pyplot as plt \n",
    "from datetime import date as date_check \n",
    "from random import randint, sample\n",
    "from sklearn import linear_model"
   ]
  },
  {
   "cell_type": "markdown",
   "metadata": {},
   "source": [
    "Primeiro, podemos __visualizar__ os dados por meio da biblioteca de visualização abaixo:"
   ]
  },
  {
   "cell_type": "code",
   "execution_count": 2,
   "metadata": {},
   "outputs": [],
   "source": [
    "def date_split(string):\n",
    "    ''' Read date-time in \"yyyy-mm-dd hh:mm:ss\" and cast to int.\n",
    "\n",
    "        Parameters:\n",
    "            string (string): string containing the mentioned format.\n",
    "\n",
    "        Returns:\n",
    "            (dictionary): contains date-time info indexed by initials.\n",
    "    '''\n",
    "\n",
    "    date = re.split(\"-|:| \", string)\n",
    "    year = int(date[0])\n",
    "    month = int(date[1])\n",
    "    day = int(date[2])\n",
    "    hour = int(date[3])\n",
    "\n",
    "    return {\"h\":hour, \"d\":day, \"m\":month, \"y\":year}\n",
    "\n",
    "# Plots a relation between the average daily traffic per hour\n",
    "def avg_traffic_hour_daily(data):\n",
    "    # OBS: there are duplicated time stamps to separate more than one\n",
    "    # enviromental condition (p.e. if its foggy and cloudy there will be duplicates)\n",
    "    curr_day = 0\n",
    "    traffic_hour = []\n",
    "    for x in data[1:] :\n",
    "        hour, day, _, _ = date_split(x[6]).values()\n",
    "        if (day != curr_day):\n",
    "            curr_day = day\n",
    "            traffic_hour.append(arr([0]*24))\n",
    "        traffic_hour[-1][hour] = x[-1]\n",
    "\n",
    "    avg = sum(traffic_hour)/len(traffic_hour)\n",
    "    plt.plot(range(0,24), avg)\n",
    "    plt.title(\"Análise do tráfego por hora\")\n",
    "    plt.xlabel(\"Horas do dia (00h-24h)\")\n",
    "    plt.ylabel(\"Média diária de tráfego\")\n",
    "    plt.show()\n",
    "\n",
    "    return\n",
    "\n",
    "# Plot a realtion between weather descriptions and the average daily traffic per hour\n",
    "def avg_traffic_per_weather(data):\n",
    "\n",
    "    desc_main = {y:[0,0] for y in list(set([x[5] for x in data[1:]]))}\n",
    "    desc = {y:[0,0] for y in list(set([x[6] for x in data[1:]]))}\n",
    "    \n",
    "    for x in data[1:]:\n",
    "        desc_main[x[5]][0] += 1\n",
    "        desc_main[x[5]][1] += int(x[-1])\n",
    "        desc[x[6]][0] += 1\n",
    "        desc[x[6]][1] += int(x[-1])\n",
    "\n",
    "    counts = [x[0] if x[0]>0 else 1 for x in desc_main.values()]\n",
    "    sums = [x[1] for x in desc_main.values()]\n",
    "    desc_main_avg = np.array(sums)/np.array(counts)\n",
    "\n",
    "    counts = [x[0] if x[0]>0 else 1  for x in desc.values()]\n",
    "    sums = [x[1] for x in desc.values()]\n",
    "    desc_avg = np.array(sums)/np.array(counts)\n",
    "    \n",
    "    a = plt.figure(1)\n",
    "    plt.plot(list(desc.keys()), desc_avg)\n",
    "    plt.xticks(list(desc.keys()), rotation='vertical')\n",
    "    plt.margins(0)\n",
    "    plt.subplots_adjust(bottom=0.5)\n",
    "    plt.title(\"Análise do tráfego por descrição específica do clima\")\n",
    "    plt.xlabel(\"Descrições específicas do clima\")\n",
    "    plt.ylabel(\"Média diária de tráfego\")\n",
    "    plt.grid(True)\n",
    "    \n",
    "    b = plt.figure(2)\n",
    "    plt.plot(list(desc_main.keys()), desc_main_avg)\n",
    "    plt.title(\"Análise do tráfego por descrição geral do clima\")\n",
    "    plt.xlabel(\"Descrições gerais do clima\")\n",
    "    plt.ylabel(\"Média diária de tráfego\")\n",
    "    plt.grid(True)\n",
    "    plt.show()\n",
    "    input()\n",
    "    \n",
    "    return\n"
   ]
  },
  {
   "cell_type": "code",
   "execution_count": null,
   "metadata": {},
   "outputs": [],
   "source": [
    "dataset = open('Datasets/dataset_with_column_names.csv')\n",
    "data = list(map(lambda x: x.split(\",\"), dataset.readlines()))\n",
    "avg_traffic_per_weather(data)"
   ]
  },
  {
   "cell_type": "code",
   "execution_count": null,
   "metadata": {},
   "outputs": [],
   "source": []
  },
  {
   "cell_type": "code",
   "execution_count": null,
   "metadata": {},
   "outputs": [],
   "source": []
  },
  {
   "cell_type": "code",
   "execution_count": null,
   "metadata": {},
   "outputs": [],
   "source": []
  }
 ],
 "metadata": {
  "kernelspec": {
   "display_name": "Python 3",
   "language": "python",
   "name": "python3"
  },
  "language_info": {
   "codemirror_mode": {
    "name": "ipython",
    "version": 3
   },
   "file_extension": ".py",
   "mimetype": "text/x-python",
   "name": "python",
   "nbconvert_exporter": "python",
   "pygments_lexer": "ipython3",
   "version": "3.6.8"
  }
 },
 "nbformat": 4,
 "nbformat_minor": 2
}
