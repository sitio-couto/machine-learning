{
 "cells": [
  {
   "cell_type": "markdown",
   "metadata": {},
   "source": [
    "# Projeto 1: Regressão Linear\n",
    "\n",
    "O projeto consiste em explorar modelos de regressão linear para prever o volume de tráfego do [Metro Interstate](https://archive.ics.uci.edu/ml/datasets/Metro+Interstate+Traffic+Volume) a partir de 8 _features_ :\n",
    "\n",
    "- Feriado (ou dia útil)\n",
    "- Temperatura (em Kelvin)\n",
    "- Chuva (em 1h)\n",
    "- Neve (em 1h)\n",
    "- Nuvens (porcentagem)\n",
    "- Tempo (curto)\n",
    "- Tempo (longo)\n",
    "- Data/Hora\n",
    "\n",
    "O valor alvo é o volume de tráfego, que também está disponível no _dataset_."
   ]
  },
  {
   "cell_type": "code",
   "execution_count": 1,
   "metadata": {},
   "outputs": [],
   "source": [
    "import re\n",
    "import time\n",
    "import numpy as np\n",
    "import matplotlib.pyplot as plt \n",
    "from datetime import date as date_check \n",
    "from random import randint, sample\n",
    "from sklearn import linear_model"
   ]
  },
  {
   "cell_type": "code",
   "execution_count": 2,
   "metadata": {},
   "outputs": [
    {
     "name": "stdout",
     "output_type": "stream",
     "text": [
      "lol\n"
     ]
    }
   ],
   "source": [
    "print('lol')"
   ]
  },
  {
   "cell_type": "code",
   "execution_count": null,
   "metadata": {},
   "outputs": [],
   "source": []
  }
 ],
 "metadata": {
  "kernelspec": {
   "display_name": "Python 3",
   "language": "python",
   "name": "python3"
  },
  "language_info": {
   "codemirror_mode": {
    "name": "ipython",
    "version": 3
   },
   "file_extension": ".py",
   "mimetype": "text/x-python",
   "name": "python",
   "nbconvert_exporter": "python",
   "pygments_lexer": "ipython3",
   "version": "3.6.8"
  }
 },
 "nbformat": 4,
 "nbformat_minor": 2
}
